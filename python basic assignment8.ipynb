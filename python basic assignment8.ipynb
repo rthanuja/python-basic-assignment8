{
 "cells": [
  {
   "cell_type": "code",
   "execution_count": null,
   "id": "eb797ada",
   "metadata": {},
   "outputs": [],
   "source": [
    "1. Is the Python Standard Library included with PyInputPlus?\n",
    "\n",
    "PyInputplus module is not included in the python standard library.we have install the module by using the command\n",
    "pip install PyInputPlus"
   ]
  },
  {
   "cell_type": "code",
   "execution_count": null,
   "id": "8b01df2d",
   "metadata": {},
   "outputs": [],
   "source": [
    "2. Why is PyInputPlus commonly imported with import pyinputplus as pypi?\n",
    "\n",
    "Generally we can create an alias for module name to keep the code concise and clean (also to avoid long names of modules)\n",
    "by using as keyword.\n",
    "so PyInputPlus is commonly imported with import pyinputplus as pypi"
   ]
  },
  {
   "cell_type": "code",
   "execution_count": null,
   "id": "d4c5e112",
   "metadata": {},
   "outputs": [],
   "source": [
    "3. How do you distinguish between inputInt() and inputFloat()?\n",
    "\n",
    "inputInt() accepts an integer value and returns the integer as int whereas inputFloat() accepts a floating point numeric\n",
    "value and returns the number as a float."
   ]
  },
  {
   "cell_type": "code",
   "execution_count": null,
   "id": "8b44ad28",
   "metadata": {},
   "outputs": [],
   "source": [
    "4. Using PyInputPlus, how do you ensure that the user enters a whole number between 0 and 99?\n",
    "\n",
    "PyInputPlus has a function inputInt() which accepts only integer values and returns as int.the min and max parameters or \n",
    "lessThan and greaterThan parameters can be used to set lower and upper bounds.\n"
   ]
  },
  {
   "cell_type": "code",
   "execution_count": 1,
   "id": "aa5197b7",
   "metadata": {},
   "outputs": [
    {
     "name": "stdout",
     "output_type": "stream",
     "text": [
      "125\n",
      "Number must be at maximum 99.\n",
      "-5\n",
      "Number must be at minimum 0.\n",
      "52\n"
     ]
    }
   ],
   "source": [
    "import pyinputplus as pypi\n",
    "x=pypi.inputInt(min=0,max=99)"
   ]
  },
  {
   "cell_type": "code",
   "execution_count": null,
   "id": "3217b61d",
   "metadata": {},
   "outputs": [],
   "source": [
    "5. What is transferred to the keyword arguments allowRegexes and blockRegexes?\n",
    "\n",
    "allowRegexes is a list of regex str that will explicitly pass validation.\n",
    "blockRegexes is a list of regex str or (regex_str, error_msg_str) tuples that, if matched, will explicitly fail \n",
    "validation."
   ]
  },
  {
   "cell_type": "code",
   "execution_count": null,
   "id": "cc15fbfb",
   "metadata": {},
   "outputs": [],
   "source": [
    "6. If a blank input is entered three times, what does inputStr(limit=3) do?\n",
    "\n",
    "It will throw ValidationException as blank values are not allowed in inputStr().for the blank values to be allowed, \n",
    "we have to set blank=True in inputStr arguments.\n",
    "It will also throw RetryLimitException as the limit we specified is reached.we can avoid this exception if set \n",
    "default value and it will return default value when limit is reached."
   ]
  },
  {
   "cell_type": "code",
   "execution_count": null,
   "id": "852ef8cc",
   "metadata": {},
   "outputs": [],
   "source": [
    "7. If blank input is entered three times, what does inputStr(limit=3, default=\"hello\") do?\n",
    "\n",
    "it will return inputStr as 'hello' instead of RetryLimitException after 3 blank inputs as default value is set to hello"
   ]
  },
  {
   "cell_type": "code",
   "execution_count": 2,
   "id": "850b1000",
   "metadata": {},
   "outputs": [
    {
     "name": "stdout",
     "output_type": "stream",
     "text": [
      "\n",
      "Blank values are not allowed.\n",
      "\n",
      "Blank values are not allowed.\n",
      "\n",
      "Blank values are not allowed.\n"
     ]
    },
    {
     "data": {
      "text/plain": [
       "'hello'"
      ]
     },
     "execution_count": 2,
     "metadata": {},
     "output_type": "execute_result"
    }
   ],
   "source": [
    "pypi.inputStr(limit=3, default=\"hello\") "
   ]
  }
 ],
 "metadata": {
  "kernelspec": {
   "display_name": "Python 3 (ipykernel)",
   "language": "python",
   "name": "python3"
  },
  "language_info": {
   "codemirror_mode": {
    "name": "ipython",
    "version": 3
   },
   "file_extension": ".py",
   "mimetype": "text/x-python",
   "name": "python",
   "nbconvert_exporter": "python",
   "pygments_lexer": "ipython3",
   "version": "3.10.9"
  }
 },
 "nbformat": 4,
 "nbformat_minor": 5
}
